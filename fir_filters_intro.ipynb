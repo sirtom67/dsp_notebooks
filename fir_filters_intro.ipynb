{
 "cells": [
  {
   "attachments": {
    "image.png": {
     "image/png": "[encoded data removed]"
    }
   },
   "cell_type": "markdown",
   "id": "888f2653",
   "metadata": {},
   "source": [
    "# FIR (Finite Impulse Response) Filters\n",
    "\n",
    "![image.png](attachment:image.png)\n",
    "\n",
    "## Background reading\n",
    "Proakis and Manolakis Section 10.2.1\n",
    "\n",
    "## Convolution - Time Domain\n",
    "$$\n",
    "\\begin{align}\n",
    "y(n)& = h(0)x(n) + h(1)x(n-1) + \\ldots + h(M-1)x(n-M+1) &\\\\\n",
    "& = \\sum_{k=0}^{M-1} h(k) x(n-k)&\\\\\n",
    "\\end{align}\n",
    "$$\n",
    "\n",
    "## DTFT - Frequency Domain\n",
    "$$\n",
    "  H(\\omega) = \\sum_{n=-\\infty}^\\infty h(n) e^{-j \\omega n}\n",
    "$$\n",
    "$$\n",
    "  Y(\\omega) = H(\\omega) X(\\omega)\n",
    "$$\n",
    "Simple multiplication!\n",
    "\n",
    "## Symmetry / Types of FIR filters\n",
    "### Non-linear phase\n",
    "No particular symmetry\n",
    "\n",
    "### Linear phase type I - odd length, symmetric\n",
    "$$\n",
    "h(n) = h(M-n), 0 \\le n \\le M\n",
    "$$\n",
    "$M$ is odd.\n",
    "### Linear phase type II - even length, symmetric\n",
    "$$\n",
    "h(n) = h(M-n), 0 \\le n \\le M\n",
    "$$\n",
    "$M$ is even.\n",
    "\n",
    "\n",
    "### Linear phase type III  - even length, antisymmetric\n",
    "$$\n",
    "h(n) = -h(M-n), 0 \\le n \\le M\n",
    "$$\n",
    "$M$ is even.\n",
    "\n",
    "### Linear phase type IV - odd length, antisymmetric\n",
    "$$\n",
    "h(n) = -h(M-n), 0 \\le n \\le M\n",
    "$$\n",
    "$M$ is odd.\n"
   ]
  },
  {
   "cell_type": "markdown",
   "id": "44edc7ff",
   "metadata": {},
   "source": [
    "## Exercise 1.\n",
    "For each type of linear phase filter, answer the following:\n",
    "\n",
    "a. Compute $\\sum_{n=0}^{M-1} h(n)$\n",
    "\n",
    "b. Compute $\\sum_{n=0}^{M-1} h(n) (-1)^n$ \n",
    "\n",
    "c. What is the DTFT at $\\omega=0$, $H(0)$?\n",
    "\n",
    "d. What is the DTFT at $\\omega=\\pi$, $H(\\pi)$?\n",
    "\n",
    "e. If the DTFT $H(0)$ is 0, this is not a good LPF. Is this a good LPF?\n",
    "\n",
    "f. If the DTFT $H(\\pi)$ is 0, this is not a good HPF. Is this a good HPF?\n",
    "\n",
    "## Exercise 2.\n",
    "For each of the following filters, determine its symmetry type\n",
    "\n",
    "1,-1,2,1,-1\n",
    "\n",
    "1,-1,0,1,-1\n",
    "\n",
    "1,2,2,1\n",
    "\n",
    "1,2,3,2,1\n",
    "\n",
    "1,2,3\n",
    "\n",
    "-1,1,-1,1\n",
    "\n",
    "## Exercise 3.\n",
    "A moving average filter is an FIR filter of length N with coefficients of 1/N.\n",
    "This is a simple LPF (Low Pass Filter).\n",
    "\n",
    "a. What is the DTFT of the filter? \n",
    "\n",
    "b. Plot the DTFT magnitude in dB $H(\\omega)$ for N=10 (use $20\\log_{10}(|H(\\omega)|)$ to convert to dB)\n",
    "\n",
    "c. Using numpy, determine the frequency omega at which the absolute value of $H(\\omega)$ crosses -3 dB \n",
    "\n",
    "d. Determine the frequency omega closest to 0 at which $H(\\omega)$ is 0\n",
    "\n",
    "e. Determine the first sidelobe height absolute value $H(\\omega)$ in dB.\n",
    "\n",
    "f. Plot b., c., and d. as a function of $N$\n",
    "\n"
   ]
  },
  {
   "cell_type": "code",
   "execution_count": null,
   "id": "fad7bc4f",
   "metadata": {},
   "outputs": [],
   "source": []
  },
  {
   "cell_type": "code",
   "execution_count": 3,
   "id": "b6a72357",
   "metadata": {},
   "outputs": [],
   "source": [
    "%matplotlib widget"
   ]
  },
  {
   "cell_type": "code",
   "execution_count": 4,
   "id": "7f96ccbe",
   "metadata": {},
   "outputs": [],
   "source": [
    "from matplotlib.pyplot import *"
   ]
  },
  {
   "cell_type": "code",
   "execution_count": null,
   "id": "81feb723",
   "metadata": {},
   "outputs": [],
   "source": []
  },
  {
   "cell_type": "code",
   "execution_count": null,
   "id": "0f3db45a",
   "metadata": {},
   "outputs": [],
   "source": []
  }
 ],
 "metadata": {
  "kernelspec": {
   "display_name": "Python 3 (ipykernel)",
   "language": "python",
   "name": "python3"
  },
  "language_info": {
   "codemirror_mode": {
    "name": "ipython",
    "version": 3
   },
   "file_extension": ".py",
   "mimetype": "text/x-python",
   "name": "python",
   "nbconvert_exporter": "python",
   "pygments_lexer": "ipython3",
   "version": "3.9.13"
  }
 },
 "nbformat": 4,
 "nbformat_minor": 5
}
